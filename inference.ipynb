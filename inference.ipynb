{
 "cells": [
  {
   "cell_type": "code",
   "execution_count": 9,
   "metadata": {},
   "outputs": [],
   "source": [
    "import os\n",
    "import numpy as np\n",
    "import pandas as pd\n",
    "\n",
    "from glob import glob\n",
    "from src.utils import read_image, read_hparams\n",
    "from tqdm import tqdm\n",
    "from models.clips import *\n",
    "from cfg import CFG\n",
    "from src.data_module import DataModuleForCLIP"
   ]
  },
  {
   "cell_type": "markdown",
   "metadata": {},
   "source": [
    "- Copy and paste your weight path and `hparams.yaml`"
   ]
  },
  {
   "cell_type": "code",
   "execution_count": 2,
   "metadata": {},
   "outputs": [],
   "source": [
    "\n",
    "weight = \"lightning_logs/version_13/checkpoints/wallpaper_fault-epoch=199-val_F1Score=0.87.ckpt\"\n",
    "hparams_path = \"/home/hm086/joono/DACON/CLIP_for_classificaion_with_descriptions/lightning_logs/version_13/hparams.yaml\"\n",
    "\n",
    "hparams = read_hparams(hparams_path)\n",
    "label2cls = {label: cls for cls, label in hparams['class_label'].items()}"
   ]
  },
  {
   "cell_type": "markdown",
   "metadata": {},
   "source": [
    "- Enter num_classes (You can check this in `lightning_logs/*/hparams.yaml`)"
   ]
  },
  {
   "cell_type": "code",
   "execution_count": 3,
   "metadata": {},
   "outputs": [],
   "source": [
    "CFG.num_classes = 19"
   ]
  },
  {
   "cell_type": "markdown",
   "metadata": {},
   "source": [
    "- Select corresponding model"
   ]
  },
  {
   "cell_type": "code",
   "execution_count": 4,
   "metadata": {},
   "outputs": [
    {
     "name": "stderr",
     "output_type": "stream",
     "text": [
      "`text_config_dict` is provided which will be used to initialize `CLIPTextConfig`. The value `text_config[\"id2label\"]` will be overriden.\n",
      "`text_config_dict` is provided which will be used to initialize `CLIPTextConfig`. The value `text_config[\"bos_token_id\"]` will be overriden.\n",
      "`text_config_dict` is provided which will be used to initialize `CLIPTextConfig`. The value `text_config[\"eos_token_id\"]` will be overriden.\n"
     ]
    }
   ],
   "source": [
    "#########################################\n",
    "# Select model\n",
    "#########################################\n",
    "# model = CLIP_ViT_base_patch32()\n",
    "# model = CLIP_ViT_large_patch14()\n",
    "model = CLIP_ConvNeXt_large_patch14.load_from_checkpoint(weight)\n",
    "# model = CLIP_ConvNeXt_base_patch32()\n",
    "# model = CLIP_ResNet50_large_patch14()\n",
    "#########################################"
   ]
  },
  {
   "cell_type": "markdown",
   "metadata": {},
   "source": [
    "- inference example code"
   ]
  },
  {
   "cell_type": "code",
   "execution_count": 15,
   "metadata": {},
   "outputs": [],
   "source": [
    "test_files = glob('/path/to/wallpaper_fault_classification/test/*')\n",
    "\n",
    "model.eval()\n",
    "\n",
    "with torch.no_grad():\n",
    "    ids, classes = [], []\n",
    "    for test in tqdm(test_files):\n",
    "        \n",
    "        image = read_image(test)\n",
    "        image = CFG.val_transforms(image).to(\"cuda\")\n",
    "        \n",
    "        _, y_hat, _ = model(image.unsqueeze(0))\n",
    "        cls_hat = torch.argmax(y_hat)\n",
    "        \n",
    "        cls = label2cls[cls_hat.item()]\n",
    "        id = f\"TEST_{os.path.basename(test).split('.')[0]}\"\n",
    "        \n",
    "        ids.append(id)\n",
    "        classes.append(cls)\n",
    "    \n",
    "df = pd.DataFrame({\n",
    "    \"id\": ids,\n",
    "    \"label\": classes\n",
    "})\n",
    "\n",
    "df = df.sort_values(\"id\")\n",
    "df.to_csv(\"submission17.csv\", index=False, encoding=\"utf-8-sig\")"
   ]
  },
  {
   "cell_type": "code",
   "execution_count": null,
   "metadata": {},
   "outputs": [],
   "source": []
  }
 ],
 "metadata": {
  "kernelspec": {
   "display_name": "pl",
   "language": "python",
   "name": "python3"
  },
  "language_info": {
   "codemirror_mode": {
    "name": "ipython",
    "version": 3
   },
   "file_extension": ".py",
   "mimetype": "text/x-python",
   "name": "python",
   "nbconvert_exporter": "python",
   "pygments_lexer": "ipython3",
   "version": "3.10.13"
  }
 },
 "nbformat": 4,
 "nbformat_minor": 2
}
